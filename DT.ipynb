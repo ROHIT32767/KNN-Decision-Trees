{
 "cells": [
  {
   "cell_type": "markdown",
   "metadata": {},
   "source": [
    "Data Visualization"
   ]
  },
  {
   "cell_type": "code",
   "execution_count": 2,
   "metadata": {},
   "outputs": [],
   "source": [
    "import pandas as pd\n",
    "import numpy as np\n",
    "from sklearn import preprocessing\n",
    "import matplotlib.pyplot as plt\n",
    "from sklearn.tree import DecisionTreeClassifier\n",
    "from sklearn.model_selection import train_test_split , KFold\n",
    "from sklearn.metrics import f1_score, accuracy_score, precision_score, recall_score , confusion_matrix\n",
    "from sklearn.preprocessing import MultiLabelBinarizer\n",
    "data = pd.read_csv('advertisement.csv')\n",
    "print(data.to_string(index=False))\n",
    "data.dropna()\n",
    "print(data.shape)\n",
    "print(data.head())\n",
    "print(data.info())\n",
    "print(list(data.columns))\n",
    "\n",
    "data_labels = np.array(data['labels'])\n",
    "values, counts = np.unique(data_labels, return_counts=True)\n",
    "\n",
    "# Create a horizontal bar plot\n",
    "plt.figure(figsize=(10, 60))\n",
    "plt.barh(values, counts)\n",
    "plt.xlabel('Frequency')\n",
    "plt.ylabel('Label')\n",
    "plt.title('Distribution of Labels')\n",
    "plt.tight_layout()\n",
    "plt.show()\n",
    "\n",
    "plt.figure(figsize=(10, 6))\n",
    "plt.scatter(data['age'], data['purchase_amount'], alpha=0.5)\n",
    "plt.title('Age vs Purchase Amount')\n",
    "plt.xlabel('Age')\n",
    "plt.ylabel('Purchase Amount')\n",
    "plt.tight_layout()\n",
    "plt.show()\n",
    "\n",
    "correlation_matrix = data.corr()\n",
    "plt.figure(figsize=(10, 6))\n",
    "plt.imshow(correlation_matrix, cmap='viridis', interpolation='nearest')\n",
    "plt.colorbar()\n",
    "plt.title('Correlation Matrix')\n",
    "plt.xticks(range(len(correlation_matrix)), correlation_matrix.columns, rotation=90)\n",
    "plt.yticks(range(len(correlation_matrix)), correlation_matrix.columns)\n",
    "plt.tight_layout()\n",
    "plt.show()"
   ]
  },
  {
   "cell_type": "markdown",
   "metadata": {},
   "source": [
    "Data preprocessing"
   ]
  },
  {
   "cell_type": "code",
   "execution_count": 3,
   "metadata": {},
   "outputs": [],
   "source": [
    "data.dropna(inplace=True)"
   ]
  },
  {
   "cell_type": "markdown",
   "metadata": {},
   "source": [
    "Data featurization"
   ]
  },
  {
   "cell_type": "code",
   "execution_count": 4,
   "metadata": {},
   "outputs": [],
   "source": [
    "categorical_features = ['gender', 'education', 'married', 'city', 'occupation', 'most bought item']\n",
    "numerical_features = ['age', 'income', 'children', 'purchase_amount']\n",
    "target_columns = ['labels']\n",
    "one_hot_encoding = pd.get_dummies(data,columns=categorical_features,drop_first=True)\n",
    "# print(one_hot_encoding.head())"
   ]
  },
  {
   "cell_type": "markdown",
   "metadata": {},
   "source": [
    "Train val test splitting - MultiOutput Formulation"
   ]
  },
  {
   "cell_type": "code",
   "execution_count": 5,
   "metadata": {},
   "outputs": [],
   "source": [
    "def Multi_Output_data_split():\n",
    "        X = one_hot_encoding.drop('labels',axis=1)\n",
    "        y = one_hot_encoding['labels']\n",
    "        X_train, X_test, y_train, y_test = train_test_split(X,y,test_size=0.2, random_state=42)\n",
    "        mlb = MultiLabelBinarizer()\n",
    "        y_train = mlb.fit_transform(y_train.str.split(' '))\n",
    "        y_test = mlb.transform(y_test.str.split(' '))\n",
    "        return X_train,X_test,y_train,y_test\n",
    "\n",
    "\n",
    "class Multi_Output_DecisionTree:\n",
    "    def __init__(self,criterion='gini',max_depth=3,max_features=None):\n",
    "        self.criterion = criterion\n",
    "        self.max_depth = max_depth\n",
    "        self.max_features = max_features\n",
    "        self.classifier = DecisionTreeClassifier(criterion=criterion,max_depth=max_depth,max_features=max_features,random_state=42)\n",
    "    def fit(self,X_train,y_train):\n",
    "        self.classifier.fit(X_train,y_train)\n",
    "    def predict(self,X_test):\n",
    "        predicted_labels = self.classifier.predict(X_test)\n",
    "        return predicted_labels\n",
    "    def print_answer(self,y_test,predicted_labels):\n",
    "        accuracy = accuracy_score(y_test,predicted_labels)\n",
    "        f1_micro = f1_score(y_test, predicted_labels, average='micro',zero_division=0)\n",
    "        f1_macro = f1_score(y_test, predicted_labels, average='macro',zero_division=0)\n",
    "        precision = precision_score(y_test, predicted_labels, average='macro',zero_division=0)\n",
    "        recall = recall_score(y_test, predicted_labels, average='macro',zero_division=0)\n",
    "        Confusion_matrix = confusion_matrix(y_test.argmax(axis=1),predicted_labels.argmax(axis=1))\n",
    "        return accuracy,f1_micro,f1_macro,precision,recall,Confusion_matrix\n",
    "    def change_parameters(self,criterion,max_depth,max_features):\n",
    "        self.criterion = criterion\n",
    "        self.max_depth = max_depth\n",
    "        self.max_features = max_features\n",
    "        self.classifier.set_params(criterion=self.criterion,max_depth=self.max_depth,max_features=self.max_features,random_state=42)"
   ]
  },
  {
   "cell_type": "markdown",
   "metadata": {},
   "source": [
    "Hyperparameter Tuning - MultiOutput Formulation"
   ]
  },
  {
   "cell_type": "code",
   "execution_count": 6,
   "metadata": {},
   "outputs": [],
   "source": [
    "criterion = ['gini','entropy']\n",
    "max_depths = [3,5,10,20,30]\n",
    "max_features = [3,5,7,9,11]\n",
    "tuples = []\n",
    "clf = Multi_Output_DecisionTree()\n",
    "X_train,X_test,y_train,y_test = Multi_Output_data_split()\n",
    "for criteria in criterion:\n",
    "    for depth in max_depths:\n",
    "        for feature in max_features:\n",
    "            clf.change_parameters(criteria,depth,feature)\n",
    "            clf.fit(X_train,y_train)\n",
    "            predicted_labels = clf.predict(X_test)\n",
    "            accuracy,f1_micro,f1_macro,precision,recall,Confusion_matrix = clf.print_answer(y_test,predicted_labels)\n",
    "            tuples.append((criteria,depth,feature,accuracy,f1_micro,f1_macro,precision,recall,Confusion_matrix))\n",
    "# (accuracy,f1_micro,f1_macro,precision,recall)\n",
    "df = pd.DataFrame(tuples, columns=['Criteria','Max-Depth','Max-features','Accuracy', 'f1_micro_score', 'f1_macro_score', 'precision','recall','Confusion_matrix'])\n",
    "# print(df.to_string(index=False))\n",
    "sorted_f1_micro_tuples = sorted(tuples, key=lambda x: x[4], reverse=True)\n",
    "sorted_f1_macro_tuples = sorted(tuples, key=lambda x: x[5], reverse=True)\n",
    "top_f1_micro_tuples = sorted_f1_micro_tuples[:3]\n",
    "top_f1_macro_tuples = sorted_f1_macro_tuples[:3]\n",
    "print('----------------------------')\n",
    "print('Top 3 performing set of hyperparamters according to F1-micro Score')\n",
    "df = pd.DataFrame(top_f1_micro_tuples, columns=['Criteria','Max-Depth','Max-features','Accuracy', 'f1_micro_score', 'f1_macro_score', 'precision','recall','Confusion_matrix'])\n",
    "print(df.to_string(index=False))\n",
    "print('----------------------------')\n",
    "print('Top 3 performing set of hyperparamters according to F1-macro Score')\n",
    "df = pd.DataFrame(top_f1_macro_tuples, columns=['Criteria','Max-Depth','Max-features','Accuracy', 'f1_micro_score', 'f1_macro_score', 'precision','recall','Confusion_matrix'])\n",
    "print(df.to_string(index=False))"
   ]
  },
  {
   "cell_type": "markdown",
   "metadata": {},
   "source": [
    "Train val test splitting - Powerset Formulation"
   ]
  },
  {
   "cell_type": "code",
   "execution_count": 7,
   "metadata": {},
   "outputs": [],
   "source": [
    "def Power_set_data_split():\n",
    "    X = one_hot_encoding.drop('labels',axis=1)\n",
    "    all_labels = set()\n",
    "    for label_set in data['labels']:\n",
    "        labels = label_set.split()\n",
    "        all_labels.update(labels)\n",
    "    powerset_labels = []\n",
    "    for r in range(2 ** len(all_labels)):\n",
    "        label_indices = [i for i in range(len(all_labels)) if (r & (1 << i)) > 0]\n",
    "        label_combination = [list(all_labels)[idx] for idx in label_indices]\n",
    "        powerset_labels.append(label_combination)\n",
    "    sorted_powerset_labels = [' '.join(sorted(label_set)) for label_set in powerset_labels]\n",
    "    sorted_powerset_labels.sort()\n",
    "    label_to_idx = {label: idx for idx, label in enumerate(sorted_powerset_labels)}\n",
    "    label_vectors = np.zeros((len(data), len(powerset_labels)))\n",
    "    for idx, label_set in enumerate(data['labels']):\n",
    "        labels = label_set.split()\n",
    "        sorted_labels = ' '.join(sorted(labels))\n",
    "        label_vectors[idx, label_to_idx[sorted_labels]] = 1\n",
    "    y = label_vectors\n",
    "    X_train, X_test, y_train, y_test = train_test_split(X, y, test_size=0.2, random_state=42)\n",
    "    return X_train,X_test,y_train,y_test\n",
    "\n",
    "class Powerset_DecisionTree:\n",
    "    def __init__(self,criterion='gini',max_depth=3,max_features=None):\n",
    "        self.criterion = criterion\n",
    "        self.max_depth = max_depth\n",
    "        self.max_features = max_features\n",
    "        self.classifier = DecisionTreeClassifier(criterion=criterion,max_depth=max_depth,max_features=max_features,random_state=42)\n",
    "    def fit(self,X_train,y_train):\n",
    "        self.classifier.fit(X_train,y_train)\n",
    "    def predict(self,X_test):\n",
    "        predicted_labels = self.classifier.predict(X_test)\n",
    "        return predicted_labels\n",
    "    def print_answer(self,y_test,predicted_labels):\n",
    "        accuracy = accuracy_score(y_test,predicted_labels)\n",
    "        f1_micro = f1_score(y_test, predicted_labels, average='micro',zero_division=0)\n",
    "        f1_macro = f1_score(y_test, predicted_labels, average='macro',zero_division=0)\n",
    "        precision = precision_score(y_test, predicted_labels, average='macro',zero_division=0)\n",
    "        recall = recall_score(y_test, predicted_labels, average='macro',zero_division=0)\n",
    "        Confusion_matrix = confusion_matrix(y_test.argmax(axis=1),predicted_labels.argmax(axis=1))\n",
    "        return accuracy,f1_micro,f1_macro,precision,recall,Confusion_matrix\n",
    "    def change_parameters(self,criterion,max_depth,max_features):\n",
    "        self.criterion = criterion\n",
    "        self.max_depth = max_depth\n",
    "        self.max_features = max_features\n",
    "        self.classifier.set_params(criterion=self.criterion,max_depth=self.max_depth,max_features=self.max_features,random_state=42)"
   ]
  },
  {
   "cell_type": "markdown",
   "metadata": {},
   "source": [
    "# Hyperparameter Tuning - Powerset Formulation"
   ]
  },
  {
   "cell_type": "code",
   "execution_count": 8,
   "metadata": {},
   "outputs": [],
   "source": [
    "criterion = ['gini','entropy']\n",
    "max_depths = [3,5,10,20,30]\n",
    "max_features = [3,5,7,9,11]\n",
    "tuples = []\n",
    "clf = Powerset_DecisionTree()\n",
    "X_train,X_test,y_train,y_test = Power_set_data_split()\n",
    "for criteria in criterion:\n",
    "    for depth in max_depths:\n",
    "        for feature in max_features:\n",
    "            clf.change_parameters(criteria,depth,feature)\n",
    "            clf.fit(X_train,y_train)\n",
    "            predicted_labels = clf.predict(X_test)\n",
    "            accuracy,f1_micro,f1_macro,precision,recall,Confusion_matrix = clf.print_answer(y_test,predicted_labels)\n",
    "            tuples.append((criteria,depth,feature,accuracy,f1_micro,f1_macro,precision,recall,Confusion_matrix))\n",
    "# (accuracy,f1_micro,f1_macro,precision,recall)\n",
    "df = pd.DataFrame(tuples, columns=['Criteria','Max-Depth','Max-features','Accuracy', 'f1_micro_score', 'f1_macro_score', 'precision','recall','Confusion_matrix'])\n",
    "# print(df.to_string(index=False))\n",
    "sorted_f1_micro_tuples = sorted(tuples, key=lambda x: x[4], reverse=True)\n",
    "sorted_f1_macro_tuples = sorted(tuples, key=lambda x: x[5], reverse=True)\n",
    "top_f1_micro_tuples = sorted_f1_micro_tuples[:3]\n",
    "top_f1_macro_tuples = sorted_f1_macro_tuples[:3]\n",
    "print('----------------------------')\n",
    "print('Top 3 performing set of hyperparamters according to F1-micro Score')\n",
    "df = pd.DataFrame(top_f1_micro_tuples, columns=['Criteria','Max-Depth','Max-features','Accuracy', 'f1_micro_score', 'f1_macro_score', 'precision','recall','Confusion_matrix'])\n",
    "print(df.to_string(index=False))\n",
    "print('----------------------------')\n",
    "print('Top 3 performing set of hyperparamters according to F1-macro Score')\n",
    "df = pd.DataFrame(top_f1_macro_tuples, columns=['Criteria','Max-Depth','Max-features','Accuracy', 'f1_micro_score', 'f1_macro_score', 'precision','recall','Confusion_matrix'])\n",
    "print(df.to_string(index=False))"
   ]
  },
  {
   "cell_type": "markdown",
   "metadata": {},
   "source": [
    "# K-Fold Validation - Powerset Formulation"
   ]
  },
  {
   "cell_type": "code",
   "execution_count": 9,
   "metadata": {},
   "outputs": [
    {
     "name": "stdout",
     "output_type": "stream",
     "text": [
      "0.0031568132997104696 0.0004836309523809524 0.002 0.0005859375 0.0004557291666666666\n"
     ]
    }
   ],
   "source": [
    "from sklearn.model_selection import KFold\n",
    "X = one_hot_encoding.drop('labels',axis=1)\n",
    "all_labels = set()\n",
    "for label_set in data['labels']:\n",
    "    labels = label_set.split()\n",
    "    all_labels.update(labels)\n",
    "powerset_labels = []\n",
    "for r in range(2 ** len(all_labels)):\n",
    "    label_indices = [i for i in range(len(all_labels)) if (r & (1 << i)) > 0]\n",
    "    label_combination = [list(all_labels)[idx] for idx in label_indices]\n",
    "    powerset_labels.append(label_combination)\n",
    "sorted_powerset_labels = [' '.join(sorted(label_set)) for label_set in powerset_labels]\n",
    "sorted_powerset_labels.sort()\n",
    "label_to_idx = {label: idx for idx, label in enumerate(sorted_powerset_labels)}\n",
    "label_vectors = np.zeros((len(data), len(powerset_labels)))\n",
    "for idx, label_set in enumerate(data['labels']):\n",
    "    labels = label_set.split()\n",
    "    sorted_labels = ' '.join(sorted(labels))\n",
    "    label_vectors[idx, label_to_idx[sorted_labels]] = 1\n",
    "y = label_vectors\n",
    "kf = KFold(n_splits=5)\n",
    "clf = Powerset_DecisionTree()\n",
    "clf.change_parameters('entropy',20,11)\n",
    "Micro = []\n",
    "Macro = []\n",
    "Accuracy = []\n",
    "Precision = []\n",
    "Recall = []\n",
    "for i, (train_index, test_index) in enumerate(kf.split(X,y)):\n",
    "    X_train = X.iloc[train_index] \n",
    "    X_test = X.iloc[test_index]\n",
    "    y_train = y[train_index]\n",
    "    y_test = y[test_index]\n",
    "    clf.fit(X_train,y_train)\n",
    "    predicted_labels = clf.predict(X_test)\n",
    "    accuracy,f1_micro,f1_macro,precision,recall,Confusion_matrix = clf.print_answer(y_test,predicted_labels)\n",
    "    Micro.append(f1_micro)\n",
    "    Macro.append(f1_macro)\n",
    "    Accuracy.append(accuracy)\n",
    "    Precision.append(precision)\n",
    "    Recall.append(recall)\n",
    "print(np.mean(Micro),np.mean(Macro),np.mean(Accuracy),np.mean(Precision),np.mean(Recall))    "
   ]
  },
  {
   "cell_type": "markdown",
   "metadata": {},
   "source": [
    "# K-Fold Validation - MultiOutput Formulation"
   ]
  },
  {
   "cell_type": "code",
   "execution_count": 12,
   "metadata": {},
   "outputs": [
    {
     "name": "stdout",
     "output_type": "stream",
     "text": [
      "0.508448223210882 0.5065104529890514 0.036000000000000004 0.520425667812449 0.497084238359497\n"
     ]
    }
   ],
   "source": [
    "X = one_hot_encoding.drop('labels',axis=1)\n",
    "y = one_hot_encoding['labels']\n",
    "mlb = MultiLabelBinarizer()\n",
    "y = mlb.fit_transform(y.str.split(' '))\n",
    "clf = Multi_Output_DecisionTree()\n",
    "clf.change_parameters('entropy',30,1100)\n",
    "kf = KFold(n_splits=5)\n",
    "Micro = []\n",
    "Macro = []\n",
    "Accuracy = []\n",
    "Precision = []\n",
    "Recall = []\n",
    "for i, (train_index, test_index) in enumerate(kf.split(X,y)):\n",
    "    X_train = X.iloc[train_index] \n",
    "    X_test = X.iloc[test_index]\n",
    "    y_train = y[train_index]\n",
    "    y_test = y[test_index]\n",
    "    clf.fit(X_train,y_train)\n",
    "    predicted_labels = clf.predict(X_test)\n",
    "    accuracy,f1_micro,f1_macro,precision,recall,Confusion_matrix = clf.print_answer(y_test,predicted_labels)\n",
    "    Micro.append(f1_micro)\n",
    "    Macro.append(f1_macro)\n",
    "    Accuracy.append(accuracy)\n",
    "    Precision.append(precision)\n",
    "    Recall.append(recall)\n",
    "print(np.mean(Micro),np.mean(Macro),np.mean(Accuracy),np.mean(Precision),np.mean(Recall))    "
   ]
  }
 ],
 "metadata": {
  "kernelspec": {
   "display_name": "Python 3",
   "language": "python",
   "name": "python3"
  },
  "language_info": {
   "codemirror_mode": {
    "name": "ipython",
    "version": 3
   },
   "file_extension": ".py",
   "mimetype": "text/x-python",
   "name": "python",
   "nbconvert_exporter": "python",
   "pygments_lexer": "ipython3",
   "version": "3.8.10"
  },
  "orig_nbformat": 4
 },
 "nbformat": 4,
 "nbformat_minor": 2
}
